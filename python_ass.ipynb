{
  "nbformat": 4,
  "nbformat_minor": 0,
  "metadata": {
    "colab": {
      "provenance": [],
      "authorship_tag": "ABX9TyNnmSDbp7Ju1mVQZuA1Ib2+",
      "include_colab_link": true
    },
    "kernelspec": {
      "name": "python3",
      "display_name": "Python 3"
    },
    "language_info": {
      "name": "python"
    }
  },
  "cells": [
    {
      "cell_type": "markdown",
      "metadata": {
        "id": "view-in-github",
        "colab_type": "text"
      },
      "source": [
        "<a href=\"https://colab.research.google.com/github/Mehak7352/EXm/blob/main/python_ass.ipynb\" target=\"_parent\"><img src=\"https://colab.research.google.com/assets/colab-badge.svg\" alt=\"Open In Colab\"/></a>"
      ]
    },
    {
      "cell_type": "markdown",
      "source": [
        "ASSIGNMENT 1\n"
      ],
      "metadata": {
        "id": "j6x5KOo1CD4w"
      }
    },
    {
      "cell_type": "code",
      "source": [
        "s1 = \"Hello\"\n",
        "s2 = \"World\"\n",
        "res = s1 + \" \" + s2\n",
        "print(res)"
      ],
      "metadata": {
        "colab": {
          "base_uri": "https://localhost:8080/"
        },
        "id": "0vvYNqcw4ibP",
        "outputId": "6d0b673f-fbc7-4a64-ecf6-39c6f7111b3c"
      },
      "execution_count": 1,
      "outputs": [
        {
          "output_type": "stream",
          "name": "stdout",
          "text": [
            "Hello World\n"
          ]
        }
      ]
    },
    {
      "cell_type": "code",
      "execution_count": 2,
      "metadata": {
        "colab": {
          "base_uri": "https://localhost:8080/"
        },
        "id": "JxdkTgMG4d4f",
        "outputId": "16e61c61-76d3-4901-b22c-466fa49bf2dd"
      },
      "outputs": [
        {
          "output_type": "stream",
          "name": "stdout",
          "text": [
            "Length of the string: 17\n"
          ]
        }
      ],
      "source": [
        "str1 = \"PythonProgramming\"\n",
        "length = len(str1)\n",
        "print(\"Length of the string:\", length)\n"
      ]
    },
    {
      "cell_type": "code",
      "source": [
        "str1 = \"ProgrammingIsFun\"\n",
        "fifth_char = str1[4]\n",
        "print(\"The 5th character is:\", fifth_char)\n",
        "\n",
        "\n"
      ],
      "metadata": {
        "colab": {
          "base_uri": "https://localhost:8080/"
        },
        "id": "QgUCSp_T6ZLh",
        "outputId": "ab61cdf3-0cba-4045-c96c-3cb602e2bf23"
      },
      "execution_count": 3,
      "outputs": [
        {
          "output_type": "stream",
          "name": "stdout",
          "text": [
            "The 5th character is: r\n"
          ]
        }
      ]
    },
    {
      "cell_type": "code",
      "source": [
        "str1 = \"LearnPythonFast\"\n",
        "substring = str1[5:11]\n",
        "print(\"The extracted substring is:\", substring)\n",
        "\n",
        "\n"
      ],
      "metadata": {
        "colab": {
          "base_uri": "https://localhost:8080/"
        },
        "id": "BPUcjrQ26sD5",
        "outputId": "bd99a4d1-b2a0-4338-81c1-12e3554c90ca"
      },
      "execution_count": 4,
      "outputs": [
        {
          "output_type": "stream",
          "name": "stdout",
          "text": [
            "The extracted substring is: Python\n"
          ]
        }
      ]
    },
    {
      "cell_type": "code",
      "source": [
        "str1 = \"PythonRocks\"\n",
        "reversed_str = str1[::-1]\n",
        "print(\"The reversed string is:\", reversed_str)\n",
        "\n"
      ],
      "metadata": {
        "colab": {
          "base_uri": "https://localhost:8080/"
        },
        "id": "UZeaNvff7h1-",
        "outputId": "2b737a6a-a65b-410a-bb9f-a233dfb83580"
      },
      "execution_count": 5,
      "outputs": [
        {
          "output_type": "stream",
          "name": "stdout",
          "text": [
            "The reversed string is: skcoRnohtyP\n"
          ]
        }
      ]
    },
    {
      "cell_type": "code",
      "source": [
        "\n",
        "str1 = \"PythonIsFun\"\n",
        "substring = \"fun\"\n",
        "for i in range(len(str1) - len(substring) + 1):\n",
        "    if str1[i:i + len(substring)] == substring:\n",
        "        print(\"Substring 'Fun' found!\")\n",
        "        break\n",
        "else:\n",
        "    print(\"Substring 'Fun' not found.\")\n"
      ],
      "metadata": {
        "colab": {
          "base_uri": "https://localhost:8080/"
        },
        "id": "lvqrFPTo7q6W",
        "outputId": "84e1da16-3138-4e47-ee08-aa86cf2e87bc"
      },
      "execution_count": 7,
      "outputs": [
        {
          "output_type": "stream",
          "name": "stdout",
          "text": [
            "Substring 'Fun' not found.\n"
          ]
        }
      ]
    },
    {
      "cell_type": "code",
      "source": [
        "str1 = \"PythonIsAmazing\"\n",
        "uppercase_str = \"\"\n",
        "\n",
        "for char in str1:\n",
        "    if 'a' <= char <= 'z':\n",
        "        uppercase_char = chr(ord(char) - 32)\n",
        "    else:\n",
        "        uppercase_char = char\n",
        "\n",
        "    uppercase_str += uppercase_char\n",
        "\n",
        "print(uppercase_str)"
      ],
      "metadata": {
        "colab": {
          "base_uri": "https://localhost:8080/"
        },
        "id": "AWDwLAHo9HVc",
        "outputId": "0fe6ee3d-395e-4db5-bb4f-7dd7e96826f8"
      },
      "execution_count": 8,
      "outputs": [
        {
          "output_type": "stream",
          "name": "stdout",
          "text": [
            "PYTHONISAMAZING\n"
          ]
        }
      ]
    },
    {
      "cell_type": "code",
      "source": [
        "str1 = \"banana\"\n",
        "result = \"\"\n",
        "\n",
        "for char in str1:\n",
        "    if char == \"a\":\n",
        "        result += \"@\"\n",
        "    else:\n",
        "        result += char\n",
        "\n",
        "print(result)"
      ],
      "metadata": {
        "colab": {
          "base_uri": "https://localhost:8080/"
        },
        "id": "OKlW1MMn9mSC",
        "outputId": "bc523679-686b-42e2-82c3-be40cc66eda8"
      },
      "execution_count": 9,
      "outputs": [
        {
          "output_type": "stream",
          "name": "stdout",
          "text": [
            "b@n@n@\n"
          ]
        }
      ]
    },
    {
      "cell_type": "code",
      "source": [
        "str1 = \"abcdefghij\"\n",
        "odd_indexed_chars = \"\"\n",
        "\n",
        "for i in range(len(str1)):\n",
        "    if i % 2 != 0:\n",
        "        odd_indexed_chars += str1[i]\n",
        "\n",
        "print(\"Odd-indexed characters:\", odd_indexed_chars)\n"
      ],
      "metadata": {
        "colab": {
          "base_uri": "https://localhost:8080/"
        },
        "id": "JkD_qGnA-AXg",
        "outputId": "b3861165-51dd-4410-86dc-4253af6afd6e"
      },
      "execution_count": 10,
      "outputs": [
        {
          "output_type": "stream",
          "name": "stdout",
          "text": [
            "Odd-indexed characters: bdfhj\n"
          ]
        }
      ]
    },
    {
      "cell_type": "code",
      "source": [
        "str1 = \"I love apples, apple are my favorite fruit \"\n",
        "count_apples = str1.lower().count(\"apple\") + str1.lower().count(\"apples\")\n",
        "\n",
        "print(\"Number of apples:\", count_apples)\n"
      ],
      "metadata": {
        "colab": {
          "base_uri": "https://localhost:8080/"
        },
        "id": "wdhTZVdQ-Z-1",
        "outputId": "74caf23b-c85f-4ff4-f07d-f4f5cb1ca076"
      },
      "execution_count": 11,
      "outputs": [
        {
          "output_type": "stream",
          "name": "stdout",
          "text": [
            "Number of apples: 3\n"
          ]
        }
      ]
    },
    {
      "cell_type": "code",
      "source": [
        "str1 = \"madam\"\n",
        "\n",
        "if str1 == str1[::-1]:\n",
        "    print(f\"'{str1}' is a palindrome\")\n",
        "else:\n",
        "    print(f\"'{str1}' is not a palindrome\")\n",
        "\n"
      ],
      "metadata": {
        "colab": {
          "base_uri": "https://localhost:8080/"
        },
        "id": "5Pf56AYT-zVr",
        "outputId": "960a13a8-a118-4577-e94c-14a8ea3ecdeb"
      },
      "execution_count": 14,
      "outputs": [
        {
          "output_type": "stream",
          "name": "stdout",
          "text": [
            "'madam' is a palindrome\n"
          ]
        }
      ]
    },
    {
      "cell_type": "code",
      "source": [
        "str1 = \" Python is awesome \"\n",
        "str1 = str1.strip()\n",
        "print(\"String after removing spaces:\", str1)\n"
      ],
      "metadata": {
        "colab": {
          "base_uri": "https://localhost:8080/"
        },
        "id": "zWIdtbO__ELM",
        "outputId": "c48d7d6d-821e-4e59-ec7a-57bc46abf2a3"
      },
      "execution_count": 15,
      "outputs": [
        {
          "output_type": "stream",
          "name": "stdout",
          "text": [
            "String after removing spaces: Python is awesome\n"
          ]
        }
      ]
    },
    {
      "cell_type": "code",
      "source": [
        "str1 = \"WelcomeToPython\"\n",
        "first_character = str1[0]\n",
        "last_character = str1[-1]\n",
        "\n",
        "print(f\"The first character is: '{first_character}'\")\n",
        "print(f\"The last character is: '{last_character}'\")"
      ],
      "metadata": {
        "colab": {
          "base_uri": "https://localhost:8080/"
        },
        "id": "u7oMekCe_a9m",
        "outputId": "861df425-824b-4d43-9138-4011013dbb34"
      },
      "execution_count": 16,
      "outputs": [
        {
          "output_type": "stream",
          "name": "stdout",
          "text": [
            "The first character is: 'W'\n",
            "The last character is: 'n'\n"
          ]
        }
      ]
    },
    {
      "cell_type": "code",
      "source": [
        "str1 = \"abcdefghijkl\"\n",
        "new_str = str1[::2]\n",
        "\n",
        "print(\"Original string:\", str1)\n",
        "print(\"New string:\", new_str)\n"
      ],
      "metadata": {
        "colab": {
          "base_uri": "https://localhost:8080/"
        },
        "id": "OQXyA-AD_w_6",
        "outputId": "38f39029-0cd4-4881-8e58-5a530b0f72c6"
      },
      "execution_count": 17,
      "outputs": [
        {
          "output_type": "stream",
          "name": "stdout",
          "text": [
            "Original string: abcdefghijkl\n",
            "New string: acegik\n"
          ]
        }
      ]
    },
    {
      "cell_type": "code",
      "source": [
        "str1 = \"LearnPython\"\n",
        "starts_with = str1[:5] == \"Learn\"\n",
        "ends_with = str1[-6:] == \"Python\"\n",
        "\n",
        "if starts_with and ends_with:\n",
        "    print(f'The string \"{str1}\" starts with \"Learn\" and ends with \"Python\".')\n",
        "else:\n",
        "    print(f'The string \"{str1}\" does not start with \"Learn\" or does not end with \"Python\".')"
      ],
      "metadata": {
        "colab": {
          "base_uri": "https://localhost:8080/"
        },
        "id": "hFwBO6PDAMGd",
        "outputId": "3af273d4-848f-4a4b-82d3-cabe202148b5"
      },
      "execution_count": 18,
      "outputs": [
        {
          "output_type": "stream",
          "name": "stdout",
          "text": [
            "The string \"LearnPython\" starts with \"Learn\" and ends with \"Python\".\n"
          ]
        }
      ]
    },
    {
      "cell_type": "markdown",
      "source": [
        "ASSIGNMENT 2"
      ],
      "metadata": {
        "id": "Z4o88fSIB9mk"
      }
    },
    {
      "cell_type": "code",
      "source": [
        "\n",
        "product_price = 50\n",
        "quantity_sold = 120\n",
        "discount_percentage = 10\n",
        "\n",
        "total_price = product_price * quantity_sold\n",
        "discount_amount = total_price * (discount_percentage / 100)\n",
        "total_revenue = total_price - discount_amount\n",
        "print(f\"Total Revenue after applying the discount: ${total_revenue:.2f}\")"
      ],
      "metadata": {
        "colab": {
          "base_uri": "https://localhost:8080/"
        },
        "id": "viwhwnQXCB4e",
        "outputId": "306b2709-8f7f-44d8-ed1d-ac50b69e350f"
      },
      "execution_count": 21,
      "outputs": [
        {
          "output_type": "stream",
          "name": "stdout",
          "text": [
            "Total Revenue after applying the discount: $5400.00\n"
          ]
        }
      ]
    },
    {
      "cell_type": "code",
      "source": [
        "\n",
        "total_revenue = 2400.00\n",
        "days_open = 30\n",
        "average_sales_per_day = total_revenue / days_open\n",
        "print(f\"Average Sales per Day: ${average_sales_per_day:.2f}\")"
      ],
      "metadata": {
        "colab": {
          "base_uri": "https://localhost:8080/"
        },
        "id": "nBjjo9usDMQF",
        "outputId": "8eb9f305-4445-4695-f6dd-fe1f90f66eb8"
      },
      "execution_count": 22,
      "outputs": [
        {
          "output_type": "stream",
          "name": "stdout",
          "text": [
            "Average Sales per Day: $80.00\n"
          ]
        }
      ]
    },
    {
      "cell_type": "code",
      "source": [
        "\n",
        "cost_price_per_unit = 30\n",
        "product_price = 50\n",
        "quantity_sold = 70\n",
        "\n",
        "profit_per_unit = product_price - cost_price_per_unit\n",
        "\n",
        "total_profit = profit_per_unit * quantity_sold\n",
        "print(f\"Total Profit: ${total_profit:.2f}\")"
      ],
      "metadata": {
        "colab": {
          "base_uri": "https://localhost:8080/"
        },
        "id": "-g6ESiRCDlBT",
        "outputId": "8a239ab1-08cc-47b3-9fee-7d5981a6cd34"
      },
      "execution_count": 23,
      "outputs": [
        {
          "output_type": "stream",
          "name": "stdout",
          "text": [
            "Total Profit: $1400.00\n"
          ]
        }
      ]
    },
    {
      "cell_type": "code",
      "source": [
        "\n",
        "original_price = 60\n",
        "discounted_price = 50\n",
        "\n",
        "discount_amount = original_price - discounted_price\n",
        "discount_percentage = (discount_amount / original_price) * 100\n",
        "print(f\"Discount Percentage: {discount_percentage:.2f}%\")"
      ],
      "metadata": {
        "colab": {
          "base_uri": "https://localhost:8080/"
        },
        "id": "dNJnOMTxD9Zd",
        "outputId": "f64db6c1-407b-4687-8372-1e6bb75e3d89"
      },
      "execution_count": 24,
      "outputs": [
        {
          "output_type": "stream",
          "name": "stdout",
          "text": [
            "Discount Percentage: 16.67%\n"
          ]
        }
      ]
    },
    {
      "cell_type": "code",
      "source": [
        "\n",
        "quantity_sold = 120\n",
        "box_capacity = 10\n",
        "remainder = quantity_sold % box_capacity\n",
        "print(f\"Remainder when dividing the quantity sold by the box capacity: {remainder}\")"
      ],
      "metadata": {
        "colab": {
          "base_uri": "https://localhost:8080/"
        },
        "id": "P3wmYz2QEUR2",
        "outputId": "4d2c8bb4-a183-4a06-977e-0a5a82b0aa3d"
      },
      "execution_count": 25,
      "outputs": [
        {
          "output_type": "stream",
          "name": "stdout",
          "text": [
            "Remainder when dividing the quantity sold by the box capacity: 0\n"
          ]
        }
      ]
    },
    {
      "cell_type": "markdown",
      "source": [
        "Assignment 3"
      ],
      "metadata": {
        "id": "NzOILVKgFCKQ"
      }
    },
    {
      "cell_type": "code",
      "source": [
        "\n",
        "num1 = float(input(\"Enter the first number: \"))\n",
        "num2 = float(input(\"Enter the second number: \"))\n",
        "\n",
        "addition = num1 + num2\n",
        "subtraction = num1 - num2\n",
        "multiplication = num1 * num2\n",
        "division = num1 / num2 if num2 != 0 else \"Undefined (cannot divide by zero)\"\n",
        "\n",
        "print(f\"Addition: {addition}\")\n",
        "print(f\"Subtraction: {subtraction}\")\n",
        "print(f\"Multiplication: {multiplication}\")\n",
        "print(f\"Division: {division}\")"
      ],
      "metadata": {
        "colab": {
          "base_uri": "https://localhost:8080/"
        },
        "id": "TmnxpcFyFE7r",
        "outputId": "ba4d5d4f-9bd2-420d-ade7-cb2ebfc64c7b"
      },
      "execution_count": 26,
      "outputs": [
        {
          "output_type": "stream",
          "name": "stdout",
          "text": [
            "Enter the first number: 3\n",
            "Enter the second number: 5\n",
            "Addition: 8.0\n",
            "Subtraction: -2.0\n",
            "Multiplication: 15.0\n",
            "Division: 0.6\n"
          ]
        }
      ]
    },
    {
      "cell_type": "code",
      "source": [
        "\n",
        "num1 = float(input(\"Enter the first number: \"))\n",
        "num2 = float(input(\"Enter the second number: \"))\n",
        "num3 = float(input(\"Enter the third number: \"))\n",
        "average = (num1 + num2 + num3) / 3\n",
        "print(f\"The average of {num1}, {num2}, and {num3} is: {average}\")"
      ],
      "metadata": {
        "colab": {
          "base_uri": "https://localhost:8080/"
        },
        "id": "mgAB7klvFSgT",
        "outputId": "26e399da-d610-4cdc-d030-611b21ef9d4d"
      },
      "execution_count": 27,
      "outputs": [
        {
          "output_type": "stream",
          "name": "stdout",
          "text": [
            "Enter the first number: 5\n",
            "Enter the second number: 6\n",
            "Enter the third number: 4\n",
            "The average of 5.0, 6.0, and 4.0 is: 5.0\n"
          ]
        }
      ]
    },
    {
      "cell_type": "code",
      "source": [
        "\n",
        "num1 = float(input(\"Enter the first number: \"))\n",
        "num2 = float(input(\"Enter the second number: \"))\n",
        "num3 = float(input(\"Enter the third number: \"))\n",
        "\n",
        "average = (num1 + num2 + num3) / 3\n",
        "print(f\"The average of {num1}, {num2}, and {num3} is: {average}\")"
      ],
      "metadata": {
        "colab": {
          "base_uri": "https://localhost:8080/"
        },
        "id": "2PfGH_eqFpRd",
        "outputId": "7063531f-2a63-4b8c-8c52-67a8e9d016b4"
      },
      "execution_count": 29,
      "outputs": [
        {
          "output_type": "stream",
          "name": "stdout",
          "text": [
            "Enter the first number: 10\n",
            "Enter the second number: 20\n",
            "Enter the third number: 30\n",
            "The average of 10.0, 20.0, and 30.0 is: 20.0\n"
          ]
        }
      ]
    },
    {
      "cell_type": "code",
      "source": [
        "\n",
        "principal = float(input(\"Enter the principal amount : \"))\n",
        "rate_of_interest = float(input(\"Enter the rate of interest  in percentage: \"))\n",
        "time_period = float(input(\"Enter the time period  in years: \"))\n",
        "simple_interest = (principal * rate_of_interest * time_period) / 100\n",
        "print(f\"The simple interest is: {simple_interest}\")"
      ],
      "metadata": {
        "colab": {
          "base_uri": "https://localhost:8080/"
        },
        "id": "8dfL037aGvWW",
        "outputId": "887e1f36-a853-40a4-d10c-b517a5597f37"
      },
      "execution_count": 31,
      "outputs": [
        {
          "output_type": "stream",
          "name": "stdout",
          "text": [
            "Enter the principal amount : 500\n",
            "Enter the rate of interest  in percentage: 4\n",
            "Enter the time period  in years: 3\n",
            "The simple interest is: 60.0\n"
          ]
        }
      ]
    },
    {
      "cell_type": "code",
      "source": [
        "\n",
        "principal = float(input(\"Enter the principal amount : \"))\n",
        "rate_of_interest = float(input(\"Enter the rate of interest in percentage: \"))\n",
        "time_period = float(input(\"Enter the time period in years: \"))\n",
        "n = int(input(\"Enter the number of times interest is compounded per year (n): \"))\n",
        "compound_interest = principal * (1 + (rate_of_interest / (n * 100)))**(n * time_period)\n",
        "print(f\"The compound interest is: {compound_interest - principal}\")\n",
        "print(f\"The total amount after {time_period} years is: {compound_interest}\")"
      ],
      "metadata": {
        "colab": {
          "base_uri": "https://localhost:8080/"
        },
        "id": "d1F3DrJnHHko",
        "outputId": "67b060bf-c9e9-4697-d772-a73ebfa3c102"
      },
      "execution_count": 32,
      "outputs": [
        {
          "output_type": "stream",
          "name": "stdout",
          "text": [
            "Enter the principal amount : 1000\n",
            "Enter the rate of interest in percentage: 5\n",
            "Enter the time period in years: 3\n",
            "Enter the number of times interest is compounded per year (n): 1\n",
            "The compound interest is: 157.62500000000023\n",
            "The total amount after 3.0 years is: 1157.6250000000002\n"
          ]
        }
      ]
    },
    {
      "cell_type": "code",
      "source": [
        "import math\n",
        "number = float(input(\"Enter a number to find its square root: \"))\n",
        "if number < 0:\n",
        "    print(\"Square root is not defined for negative numbers.\")\n",
        "else:\n",
        "    square_root = math.sqrt(number)\n",
        "    print(f\"The square root of {number} is: {square_root}\")"
      ],
      "metadata": {
        "colab": {
          "base_uri": "https://localhost:8080/"
        },
        "id": "wzbzGvdUHxh7",
        "outputId": "5e198852-0de7-4e93-ed0c-bb8f96f996f5"
      },
      "execution_count": 33,
      "outputs": [
        {
          "output_type": "stream",
          "name": "stdout",
          "text": [
            "Enter a number to find its square root: 200\n",
            "The square root of 200.0 is: 14.142135623730951\n"
          ]
        }
      ]
    },
    {
      "cell_type": "code",
      "source": [
        "import math\n",
        "radius = float(input(\"Enter the radius of the circle: \"))\n",
        "area = math.pi * (radius ** 2)\n",
        "print(f\"The area of the circle with radius {radius} is: {area}\")"
      ],
      "metadata": {
        "colab": {
          "base_uri": "https://localhost:8080/"
        },
        "id": "bSQVq2IEIfH1",
        "outputId": "1ea3e1b3-cd37-4ee3-90e1-3673da8a9fc5"
      },
      "execution_count": 34,
      "outputs": [
        {
          "output_type": "stream",
          "name": "stdout",
          "text": [
            "Enter the radius of the circle: 5\n",
            "The area of the circle with radius 5.0 is: 78.53981633974483\n"
          ]
        }
      ]
    },
    {
      "cell_type": "code",
      "source": [
        "\n",
        "length = float(input(\"Enter the length of the rectangle: \"))\n",
        "width = float(input(\"Enter the width of the rectangle: \"))\n",
        "area = length * width\n",
        "print(f\"The area of the rectangle with length {length} and width {width} is: {area}\")"
      ],
      "metadata": {
        "colab": {
          "base_uri": "https://localhost:8080/"
        },
        "id": "TTY5tKM1Iy5N",
        "outputId": "9294450d-e411-4b51-be33-fed5ba1cbe78"
      },
      "execution_count": 35,
      "outputs": [
        {
          "output_type": "stream",
          "name": "stdout",
          "text": [
            "Enter the length of the rectangle: 5\n",
            "Enter the width of the rectangle: 4\n",
            "The area of the rectangle with length 5.0 and width 4.0 is: 20.0\n"
          ]
        }
      ]
    },
    {
      "cell_type": "code",
      "source": [
        "\n",
        "base = float(input(\"Enter the length of the base of the triangle: \"))\n",
        "height = float(input(\"Enter the height of the triangle: \"))\n",
        "area = (base * height) / 2\n",
        "print(f\"The area of the right-angled triangle with base {base} and height {height} is: {area}\")"
      ],
      "metadata": {
        "colab": {
          "base_uri": "https://localhost:8080/"
        },
        "id": "i48QmB2pJGig",
        "outputId": "895e3b6b-5f73-40a7-c792-7a64ce6edf0e"
      },
      "execution_count": 36,
      "outputs": [
        {
          "output_type": "stream",
          "name": "stdout",
          "text": [
            "Enter the length of the base of the triangle: 6\n",
            "Enter the height of the triangle: 4\n",
            "The area of the right-angled triangle with base 6.0 and height 4.0 is: 12.0\n"
          ]
        }
      ]
    },
    {
      "cell_type": "code",
      "source": [
        "\n",
        "a = input(\"Enter the first variable (a): \")\n",
        "b = input(\"Enter the second variable (b): \")\n",
        "print(f\"Before swapping: a = {a}, b = {b}\")\n",
        "temp = a\n",
        "a = b\n",
        "b = temp\n",
        "print(f\"After swapping: a = {a}, b = {b}\")"
      ],
      "metadata": {
        "colab": {
          "base_uri": "https://localhost:8080/"
        },
        "id": "z-teprDKJX9_",
        "outputId": "4d1241e7-0737-43c8-c36e-3737cee949e2"
      },
      "execution_count": 37,
      "outputs": [
        {
          "output_type": "stream",
          "name": "stdout",
          "text": [
            "Enter the first variable (a): 5\n",
            "Enter the second variable (b): 6\n",
            "Before swapping: a = 5, b = 6\n",
            "After swapping: a = 6, b = 5\n"
          ]
        }
      ]
    },
    {
      "cell_type": "code",
      "source": [
        "\n",
        "fahrenheit = float(input(\"Enter the temperature in Fahrenheit: \"))\n",
        "celsius = (fahrenheit - 32) * 5 / 9\n",
        "print(f\"{fahrenheit} degrees Fahrenheit is equal to {celsius:.2f} degrees Celsius.\")"
      ],
      "metadata": {
        "colab": {
          "base_uri": "https://localhost:8080/"
        },
        "id": "-FMU74AkJ_en",
        "outputId": "45373e75-d96f-4419-d0b1-3cf7dae6137e"
      },
      "execution_count": 39,
      "outputs": [
        {
          "output_type": "stream",
          "name": "stdout",
          "text": [
            "Enter the temperature in Fahrenheit: 58\n",
            "58.0 degrees Fahrenheit is equal to 14.44 degrees Celsius.\n"
          ]
        }
      ]
    },
    {
      "cell_type": "code",
      "source": [
        "import calendar\n",
        "year = int(input(\"Enter the year: \"))\n",
        "month = int(input(\"Enter the month  \"))\n",
        "print(calendar.month(year, month))"
      ],
      "metadata": {
        "colab": {
          "base_uri": "https://localhost:8080/"
        },
        "id": "6m5MF1sFKMrB",
        "outputId": "53e18f24-05f8-49bf-90e5-205e443822a4"
      },
      "execution_count": 40,
      "outputs": [
        {
          "output_type": "stream",
          "name": "stdout",
          "text": [
            "Enter the year: 2006\n",
            "Enter the month  3\n",
            "     March 2006\n",
            "Mo Tu We Th Fr Sa Su\n",
            "       1  2  3  4  5\n",
            " 6  7  8  9 10 11 12\n",
            "13 14 15 16 17 18 19\n",
            "20 21 22 23 24 25 26\n",
            "27 28 29 30 31\n",
            "\n"
          ]
        }
      ]
    },
    {
      "cell_type": "code",
      "source": [
        "\n",
        "total_days = int(input(\"Enter the number of days: \"))\n",
        "years = total_days // 365\n",
        "remaining_days = total_days % 365\n",
        "weeks = remaining_days // 7\n",
        "days = remaining_days % 7\n",
        "print(f\"{total_days} days is approximately {years} years, {weeks} weeks, and {days} days.\")"
      ],
      "metadata": {
        "colab": {
          "base_uri": "https://localhost:8080/"
        },
        "id": "6gzzskJvKj0F",
        "outputId": "c928e61b-2477-4683-ee5a-108d504f93ee"
      },
      "execution_count": 43,
      "outputs": [
        {
          "output_type": "stream",
          "name": "stdout",
          "text": [
            "Enter the number of days: 365\n",
            "365 days is approximately 1 years, 0 weeks, and 0 days.\n"
          ]
        }
      ]
    },
    {
      "cell_type": "markdown",
      "source": [
        "ASSIGNMENT 4"
      ],
      "metadata": {
        "id": "rTyW1MEfLAPY"
      }
    },
    {
      "cell_type": "code",
      "source": [
        "\n",
        "number = int(input(\"Enter an integer: \"))\n",
        "if number % 2 == 0:\n",
        "    print(f\"{number} is an even number.\")\n",
        "else:\n",
        "    print(f\"{number} is an odd number.\")"
      ],
      "metadata": {
        "colab": {
          "base_uri": "https://localhost:8080/"
        },
        "id": "rkS9-qM3LEd7",
        "outputId": "35529c75-12db-40ad-ec3b-437793c25e54"
      },
      "execution_count": 44,
      "outputs": [
        {
          "output_type": "stream",
          "name": "stdout",
          "text": [
            "Enter an integer: 5\n",
            "5 is an odd number.\n"
          ]
        }
      ]
    },
    {
      "cell_type": "code",
      "source": [
        "\n",
        "number = float(input(\"Enter a number: \"))\n",
        "if number > 0:\n",
        "    print(f\"{number} is a positive number.\")\n",
        "elif number < 0:\n",
        "    print(f\"{number} is a negative number.\")\n",
        "else:\n",
        "    print(\"The number is zero.\")"
      ],
      "metadata": {
        "colab": {
          "base_uri": "https://localhost:8080/"
        },
        "id": "L9aGGTCcLf3A",
        "outputId": "60a7da6b-42bd-4699-ab32-6e6ccb4b2ac0"
      },
      "execution_count": 45,
      "outputs": [
        {
          "output_type": "stream",
          "name": "stdout",
          "text": [
            "Enter a number: 4\n",
            "4.0 is a positive number.\n"
          ]
        }
      ]
    },
    {
      "cell_type": "code",
      "source": [
        "\n",
        "age = int(input(\"Enter your age: \"))\n",
        "if age >= 18:\n",
        "    print(\"You are eligible to vote.\")\n",
        "else:\n",
        "    print(\"You are not eligible to vote.\")"
      ],
      "metadata": {
        "colab": {
          "base_uri": "https://localhost:8080/"
        },
        "id": "iRFAe5_7LtAz",
        "outputId": "ba408662-03bc-482b-c743-a345bd9e6e33"
      },
      "execution_count": 46,
      "outputs": [
        {
          "output_type": "stream",
          "name": "stdout",
          "text": [
            "Enter your age: 19\n",
            "You are eligible to vote.\n"
          ]
        }
      ]
    },
    {
      "cell_type": "code",
      "source": [
        "\n",
        "num1 = float(input(\"Enter the first number: \"))\n",
        "num2 = float(input(\"Enter the second number: \"))\n",
        "num3 = float(input(\"Enter the third number: \"))\n",
        "largest = num1\n",
        "\n",
        "if num2 > largest:\n",
        "    largest = num2\n",
        "if num3 > largest:\n",
        "    largest = num3\n",
        "\n",
        "print(f\"The largest number among {num1}, {num2}, and {num3} is: {largest}\")"
      ],
      "metadata": {
        "colab": {
          "base_uri": "https://localhost:8080/"
        },
        "id": "nyJHZR-1L5xi",
        "outputId": "23253c5a-ecde-46d7-96ec-8e4b11f1ded6"
      },
      "execution_count": 47,
      "outputs": [
        {
          "output_type": "stream",
          "name": "stdout",
          "text": [
            "Enter the first number: 6\n",
            "Enter the second number: 10\n",
            "Enter the third number: 2\n",
            "The largest number among 6.0, 10.0, and 2.0 is: 10.0\n"
          ]
        }
      ]
    },
    {
      "cell_type": "code",
      "source": [
        "\n",
        "number = int(input(\"Enter a number: \"))\n",
        "if number % 3 == 0 and number % 5 == 0:\n",
        "    print(f\"{number} is divisible by both 3 and 5.\")\n",
        "else:\n",
        "    print(f\"{number} is not divisible by both 3 and 5.\")"
      ],
      "metadata": {
        "colab": {
          "base_uri": "https://localhost:8080/"
        },
        "id": "beR_aJWTMN5B",
        "outputId": "af2cc03d-59d0-4e42-a521-3a8cfe268454"
      },
      "execution_count": 50,
      "outputs": [
        {
          "output_type": "stream",
          "name": "stdout",
          "text": [
            "Enter a number: 15\n",
            "15 is divisible by both 3 and 5.\n"
          ]
        }
      ]
    },
    {
      "cell_type": "code",
      "source": [
        "\n",
        "score = float(input(\"Enter the student's score: \"))\n",
        "if score >= 90:\n",
        "    grade = 'A'\n",
        "elif score >= 70:\n",
        "    grade = 'B'\n",
        "elif score >= 50:\n",
        "    grade = 'C'\n",
        "else:\n",
        "    grade = 'F'\n",
        "print(f\"The student's grade is: {grade}\")"
      ],
      "metadata": {
        "colab": {
          "base_uri": "https://localhost:8080/"
        },
        "id": "Ng6hCxJ-Mgh1",
        "outputId": "1c9456e2-ccae-4ff1-e8e0-fbd19f4bd380"
      },
      "execution_count": 51,
      "outputs": [
        {
          "output_type": "stream",
          "name": "stdout",
          "text": [
            "Enter the student's score: 60\n",
            "The student's grade is: C\n"
          ]
        }
      ]
    },
    {
      "cell_type": "code",
      "source": [
        "\n",
        "score = float(input(\"Enter the student's score: \"))\n",
        "attendance_percentage = float(input(\"Enter the attendance percentage: \"))\n",
        "if score > 50 or attendance_percentage >= 75:\n",
        "    print(\"The student passes the exam.\")\n",
        "else:\n",
        "    print(\"The student does not pass the exam.\")"
      ],
      "metadata": {
        "colab": {
          "base_uri": "https://localhost:8080/"
        },
        "id": "LegeNNGDM_QF",
        "outputId": "820377a0-6cc1-407c-8bd3-00074612370f"
      },
      "execution_count": 52,
      "outputs": [
        {
          "output_type": "stream",
          "name": "stdout",
          "text": [
            "Enter the student's score: 55\n",
            "Enter the attendance percentage: 76\n",
            "The student passes the exam.\n"
          ]
        }
      ]
    },
    {
      "cell_type": "code",
      "source": [
        "\n",
        "day = input(\"Enter a day of the week: \").strip().lower()\n",
        "is_weekend = day == \"saturday\" or day == \"sunday\"\n",
        "print(is_weekend)"
      ],
      "metadata": {
        "colab": {
          "base_uri": "https://localhost:8080/"
        },
        "id": "1OWkd6d_NPjR",
        "outputId": "cc6deb9c-9566-4905-94f6-8fd24c1188b4"
      },
      "execution_count": 53,
      "outputs": [
        {
          "output_type": "stream",
          "name": "stdout",
          "text": [
            "Enter a day of the week: 4\n",
            "False\n"
          ]
        }
      ]
    },
    {
      "cell_type": "code",
      "source": [
        "\n",
        "is_member = input(\"Are you a member? (yes/no): \").strip().lower()\n",
        "purchase_amount = float(input(\"Enter your purchase amount: \"))\n",
        "if is_member == \"yes\" or purchase_amount > 100:\n",
        "    eligible_for_discount = True\n",
        "else:\n",
        "    eligible_for_discount = False\n",
        "print(f\"Eligible for discount: {eligible_for_discount}\")"
      ],
      "metadata": {
        "colab": {
          "base_uri": "https://localhost:8080/"
        },
        "id": "JUDDYT_aNq_L",
        "outputId": "bda35f23-57c8-4710-e2c8-50e61296ac15"
      },
      "execution_count": 54,
      "outputs": [
        {
          "output_type": "stream",
          "name": "stdout",
          "text": [
            "Are you a member? (yes/no): yes\n",
            "Enter your purchase amount: 300\n",
            "Eligible for discount: True\n"
          ]
        }
      ]
    },
    {
      "cell_type": "code",
      "source": [
        "\n",
        "correct_username = \"user123\"\n",
        "correct_password = \"pass123\"\n",
        "username = input(\"Enter your username: \")\n",
        "password = input(\"Enter your password: \")\n",
        "if username == correct_username or password == correct_password:\n",
        "    print(\"Login successful!\")\n",
        "else:\n",
        "    print(\"Login failed. Please try again.\")"
      ],
      "metadata": {
        "colab": {
          "base_uri": "https://localhost:8080/"
        },
        "id": "9pwAgqXqN-J8",
        "outputId": "ec284380-d2b8-4000-d684-8476c867c5ad"
      },
      "execution_count": 56,
      "outputs": [
        {
          "output_type": "stream",
          "name": "stdout",
          "text": [
            "Enter your username: user123\n",
            "Enter your password: pass123\n",
            "Login successful!\n"
          ]
        }
      ]
    },
    {
      "cell_type": "code",
      "source": [
        "\n",
        "score = float(input(\"Enter the student's score: \"))\n",
        "if 90 <= score <= 100:\n",
        "    grade = \"Excellent\"\n",
        "elif 70 <= score < 90:\n",
        "    grade = \"Good\"\n",
        "elif 50 <= score < 70:\n",
        "    grade = \"Average\"\n",
        "elif score < 50:\n",
        "    grade = \"Fail\"\n",
        "else:\n",
        "    grade = \"Invalid score\"\n",
        "print(f\"The student's grade classification is: {grade}\")"
      ],
      "metadata": {
        "colab": {
          "base_uri": "https://localhost:8080/"
        },
        "id": "MXUyRYyIOTjP",
        "outputId": "7cefa322-36db-401b-911c-c3f8b73fa825"
      },
      "execution_count": 57,
      "outputs": [
        {
          "output_type": "stream",
          "name": "stdout",
          "text": [
            "Enter the student's score: 90\n",
            "The student's grade classification is: Excellent\n"
          ]
        }
      ]
    },
    {
      "cell_type": "code",
      "source": [
        "\n",
        "age = int(input(\"Enter your age: \"))\n",
        "is_citizen = input(\"Are you a citizen? (yes/no): \").strip().lower()\n",
        "if age >= 18 and is_citizen == \"yes\":\n",
        "    eligible_to_vote = True\n",
        "else:\n",
        "    eligible_to_vote = False\n",
        "print(f\"Eligible to vote: {eligible_to_vote}\")"
      ],
      "metadata": {
        "colab": {
          "base_uri": "https://localhost:8080/"
        },
        "id": "Z1iQUNMQOkrf",
        "outputId": "7d0d9fb1-c7f2-47cc-c86b-0689a130296f"
      },
      "execution_count": 58,
      "outputs": [
        {
          "output_type": "stream",
          "name": "stdout",
          "text": [
            "Enter your age: 19\n",
            "Are you a citizen? (yes/no): yes\n",
            "Eligible to vote: True\n"
          ]
        }
      ]
    },
    {
      "cell_type": "code",
      "source": [
        "\n",
        "is_member = input(\"Are you a member? (yes/no): \").strip().lower()\n",
        "total_purchase = float(input(\"Enter your total purchase amount: \"))\n",
        "if is_member == \"yes\" and total_purchase > 200:\n",
        "    discount = \"Premium discount\"\n",
        "elif is_member == \"yes\" or total_purchase > 100:\n",
        "    discount = \"Regular discount\"\n",
        "else:\n",
        "    discount = \"No discount\"\n",
        "print(f\"Discount eligibility: {discount}\")"
      ],
      "metadata": {
        "colab": {
          "base_uri": "https://localhost:8080/"
        },
        "id": "f7B78Vw3O235",
        "outputId": "498d5169-87c0-4900-bf3a-781b230cb2cc"
      },
      "execution_count": 59,
      "outputs": [
        {
          "output_type": "stream",
          "name": "stdout",
          "text": [
            "Are you a member? (yes/no): yes\n",
            "Enter your total purchase amount: 200\n",
            "Discount eligibility: Regular discount\n"
          ]
        }
      ]
    },
    {
      "cell_type": "code",
      "source": [
        "\n",
        "age = int(input(\"Enter your age: \"))\n",
        "passed_driving_test = input(\"Have you passed the driving test? (yes/no): \").strip().lower()\n",
        "if age >= 18 and passed_driving_test == \"yes\":\n",
        "    eligible_for_license = True\n",
        "else:\n",
        "    eligible_for_license = False\n",
        "print(f\"Eligible for driver's license: {eligible_for_license}\")"
      ],
      "metadata": {
        "colab": {
          "base_uri": "https://localhost:8080/"
        },
        "id": "MviVZJS-PIyl",
        "outputId": "ddfb609e-3111-4399-dfc0-24cd6cf5a120"
      },
      "execution_count": 60,
      "outputs": [
        {
          "output_type": "stream",
          "name": "stdout",
          "text": [
            "Enter your age: 20\n",
            "Have you passed the driving test? (yes/no): yes\n",
            "Eligible for driver's license: True\n"
          ]
        }
      ]
    },
    {
      "cell_type": "code",
      "source": [
        "\n",
        "base_price = 10.00\n",
        "age = int(input(\"Enter your age: \"))\n",
        "time_of_day = input(\"Enter the time of day (HH:MM AM/PM): \").strip()\n",
        "time_parts = time_of_day.split()\n",
        "hour_minute = time_parts[0].split(':')\n",
        "hour = int(hour_minute[0])\n",
        "minute = int(hour_minute[1])\n",
        "if time_parts[1].lower() == 'pm' and hour != 12:\n",
        "    hour += 12\n",
        "elif time_parts[1].lower() == 'am' and hour == 12:\n",
        "    hour = 0\n",
        "\n",
        "ticket_price = base_price\n",
        "if age < 12 or age > 60:\n",
        "    ticket_price *= 0.8\n",
        "if 18 <= hour < 21:\n",
        "    ticket_price *= 1.1\n",
        "print(f\"The price of the movie ticket is: ${ticket_price:.2f}\")"
      ],
      "metadata": {
        "colab": {
          "base_uri": "https://localhost:8080/"
        },
        "id": "hK8_NVIIPanV",
        "outputId": "619b0d47-9bd7-4967-cbf1-605adc717172"
      },
      "execution_count": 63,
      "outputs": [
        {
          "output_type": "stream",
          "name": "stdout",
          "text": [
            "Enter your age: 10\n",
            "Enter the time of day (HH:MM AM/PM): 7:30 PM\n",
            "The price of the movie ticket is: $8.80\n"
          ]
        }
      ]
    },
    {
      "cell_type": "markdown",
      "source": [
        "ASSIGNMENT 5\n"
      ],
      "metadata": {
        "id": "2UhaQj_cQVH4"
      }
    },
    {
      "cell_type": "code",
      "source": [
        "\n",
        "number = 1\n",
        "while number <= 10:\n",
        "    print(number)\n",
        "    number += 1"
      ],
      "metadata": {
        "colab": {
          "base_uri": "https://localhost:8080/"
        },
        "id": "lfoyIQc6QXx1",
        "outputId": "73833f44-ea6c-4e06-c9c4-ccd5c7ca92f2"
      },
      "execution_count": 64,
      "outputs": [
        {
          "output_type": "stream",
          "name": "stdout",
          "text": [
            "1\n",
            "2\n",
            "3\n",
            "4\n",
            "5\n",
            "6\n",
            "7\n",
            "8\n",
            "9\n",
            "10\n"
          ]
        }
      ]
    },
    {
      "cell_type": "code",
      "source": [
        "\n",
        "n = int(input(\"Enter a positive integer n: \"))\n",
        "sum_natural_numbers = 0\n",
        "current_number = 1\n",
        "while current_number <= n:\n",
        "    sum_natural_numbers += current_number\n",
        "    current_number += 1\n",
        "print(f\"The sum of the first {n} natural numbers is: {sum_natural_numbers}\")"
      ],
      "metadata": {
        "colab": {
          "base_uri": "https://localhost:8080/"
        },
        "id": "jkJ7_ep0Qgzc",
        "outputId": "3404f9b2-51e4-46d5-943b-782c199c4b20"
      },
      "execution_count": 65,
      "outputs": [
        {
          "output_type": "stream",
          "name": "stdout",
          "text": [
            "Enter a positive integer n: 4\n",
            "The sum of the first 4 natural numbers is: 10\n"
          ]
        }
      ]
    },
    {
      "cell_type": "code",
      "source": [
        "\n",
        "n = int(input(\"Enter a non-negative integer: \"))\n",
        "factorial = 1\n",
        "if n < 0:\n",
        "    print(\"Factorial is not defined for negative numbers.\")\n",
        "else:\n",
        "    for i in range(1, n + 1):\n",
        "        factorial *= i\n",
        "    print(f\"The factorial of {n} is: {factorial}\")"
      ],
      "metadata": {
        "colab": {
          "base_uri": "https://localhost:8080/"
        },
        "id": "lDWSoRtMQ4JD",
        "outputId": "fdef2be9-892d-464b-81e5-fd76800e6432"
      },
      "execution_count": 66,
      "outputs": [
        {
          "output_type": "stream",
          "name": "stdout",
          "text": [
            "Enter a non-negative integer: 3\n",
            "The factorial of 3 is: 6\n"
          ]
        }
      ]
    },
    {
      "cell_type": "code",
      "source": [
        "\n",
        "numbers = []\n",
        "while True:\n",
        "    number = int(input(\"Enter a number (0 to stop): \"))\n",
        "\n",
        "    if number == 0:\n",
        "        break\n",
        "    numbers.append(number)\n",
        "print(\"You entered the following numbers:\", numbers)"
      ],
      "metadata": {
        "colab": {
          "base_uri": "https://localhost:8080/"
        },
        "id": "olsJI1b-RMbN",
        "outputId": "aa5c7ead-8556-4640-eb78-cce96f9f78f9"
      },
      "execution_count": 68,
      "outputs": [
        {
          "output_type": "stream",
          "name": "stdout",
          "text": [
            "Enter a number (0 to stop): 77\n",
            "Enter a number (0 to stop): 66\n",
            "Enter a number (0 to stop): 889\n",
            "Enter a number (0 to stop): 4\n",
            "Enter a number (0 to stop): 3\n",
            "Enter a number (0 to stop): 0\n",
            "You entered the following numbers: [77, 66, 889, 4, 3]\n"
          ]
        }
      ]
    },
    {
      "cell_type": "code",
      "source": [
        "\n",
        "while True:\n",
        "    number = int(input(\"Enter a number (even number to stop): \"))\n",
        "    if number % 2 == 0:\n",
        "        print(\"You entered an even number. Stop the program.\")\n",
        "        break"
      ],
      "metadata": {
        "colab": {
          "base_uri": "https://localhost:8080/"
        },
        "id": "gVrjaCyURpYW",
        "outputId": "87046eb7-bf92-46f5-b6a9-d067faa3e479"
      },
      "execution_count": 71,
      "outputs": [
        {
          "output_type": "stream",
          "name": "stdout",
          "text": [
            "Enter a number (even number to stop): 3\n",
            "Enter a number (even number to stop): 7\n",
            "Enter a number (even number to stop): 4\n",
            "You entered an even number. Stop the program.\n"
          ]
        }
      ]
    },
    {
      "cell_type": "code",
      "source": [
        "\n",
        "correct_password = \"mypassword\"\n",
        "while True:\n",
        "    password = input(\"Enter the password: \")\n",
        "\n",
        "    if password == correct_password:\n",
        "        print(\"Access granted.\")\n",
        "        break\n",
        "    else:\n",
        "        print(\"Incorrect password. Please try again.\")"
      ],
      "metadata": {
        "colab": {
          "base_uri": "https://localhost:8080/"
        },
        "id": "i99gAIjwSN5Q",
        "outputId": "1843b456-2397-4d4e-f39a-ec8f844c5348"
      },
      "execution_count": 72,
      "outputs": [
        {
          "output_type": "stream",
          "name": "stdout",
          "text": [
            "Enter the password: mhk\n",
            "Incorrect password. Please try again.\n",
            "Enter the password: mypassword\n",
            "Access granted.\n"
          ]
        }
      ]
    },
    {
      "cell_type": "code",
      "source": [
        "\n",
        "secret_number = 7\n",
        "while True:\n",
        "    guess = int(input(\"Guess the secret number (between 1 and 10): \"))\n",
        "\n",
        "    if guess == secret_number:\n",
        "        print(\"Congratulations! You've guessed the correct number.\")\n",
        "        break\n",
        "    else:\n",
        "        print(\"Wrong guess. Try again.\")\n"
      ],
      "metadata": {
        "colab": {
          "base_uri": "https://localhost:8080/"
        },
        "id": "6TNSmIfMTBUB",
        "outputId": "9ada95b8-17ce-47ed-ddc2-789645c4d078"
      },
      "execution_count": 74,
      "outputs": [
        {
          "output_type": "stream",
          "name": "stdout",
          "text": [
            "Guess the secret number (between 1 and 10): 5\n",
            "Wrong guess. Try again.\n",
            "Guess the secret number (between 1 and 10): 7\n",
            "Congratulations! You've guessed the correct number.\n"
          ]
        }
      ]
    },
    {
      "cell_type": "code",
      "source": [
        "\n",
        "number = 1\n",
        "while number <= 10:\n",
        "    if number == 5:\n",
        "        print(\"Stopping at 5.\")\n",
        "        break\n",
        "    print(number)\n",
        "    number += 1"
      ],
      "metadata": {
        "colab": {
          "base_uri": "https://localhost:8080/"
        },
        "id": "q0J2ZjqHTMY2",
        "outputId": "f2e4a746-8e81-467a-fbac-6995eebd222b"
      },
      "execution_count": 75,
      "outputs": [
        {
          "output_type": "stream",
          "name": "stdout",
          "text": [
            "1\n",
            "2\n",
            "3\n",
            "4\n",
            "Stopping at 5.\n"
          ]
        }
      ]
    },
    {
      "cell_type": "code",
      "source": [
        "\n",
        "for number in range(1, 11):\n",
        "    if number % 2 == 0:\n",
        "        continue\n",
        "    print(number)"
      ],
      "metadata": {
        "colab": {
          "base_uri": "https://localhost:8080/"
        },
        "id": "anJNzSXbTeRN",
        "outputId": "d864c781-a799-43dc-e394-3b73176c7b4f"
      },
      "execution_count": 76,
      "outputs": [
        {
          "output_type": "stream",
          "name": "stdout",
          "text": [
            "1\n",
            "3\n",
            "5\n",
            "7\n",
            "9\n"
          ]
        }
      ]
    },
    {
      "cell_type": "code",
      "source": [
        "\n",
        "for number in range(1, 11):\n",
        "    if number == 5:\n",
        "        continue\n",
        "    print(number)"
      ],
      "metadata": {
        "colab": {
          "base_uri": "https://localhost:8080/"
        },
        "id": "VIoJZxA3TwYY",
        "outputId": "7dbde070-c933-42b5-e861-2ec65be93bc6"
      },
      "execution_count": 77,
      "outputs": [
        {
          "output_type": "stream",
          "name": "stdout",
          "text": [
            "1\n",
            "2\n",
            "3\n",
            "4\n",
            "6\n",
            "7\n",
            "8\n",
            "9\n",
            "10\n"
          ]
        }
      ]
    },
    {
      "cell_type": "code",
      "source": [
        "\n",
        "\n",
        "while True:\n",
        "    user_input = input(\"Enter a number (or type 'exit' to stop): \")\n",
        "\n",
        "    if user_input.lower() == 'exit':\n",
        "        print(\"Exiting the program.\")\n",
        "        break\n",
        "\n",
        "    try:\n",
        "        number = float(user_input)\n",
        "    except ValueError:\n",
        "        print(\"Please enter a valid number.\")\n",
        "        continue\n",
        "\n",
        "    if number < 0:\n",
        "        continue\n",
        "    else:\n",
        "        print(f\"Positive number: {number}\")"
      ],
      "metadata": {
        "colab": {
          "base_uri": "https://localhost:8080/"
        },
        "id": "sP2B2WCsT-TE",
        "outputId": "57a15ad1-a45b-4120-d167-7247bb214c54"
      },
      "execution_count": 78,
      "outputs": [
        {
          "output_type": "stream",
          "name": "stdout",
          "text": [
            "Enter a number (or type 'exit' to stop): 5\n",
            "Positive number: 5.0\n",
            "Enter a number (or type 'exit' to stop): 4\n",
            "Positive number: 4.0\n",
            "Enter a number (or type 'exit' to stop): 0\n",
            "Positive number: 0.0\n",
            "Enter a number (or type 'exit' to stop): -1\n",
            "Enter a number (or type 'exit' to stop): exit\n",
            "Exiting the program.\n"
          ]
        }
      ]
    },
    {
      "cell_type": "code",
      "source": [
        "\n",
        "for number in range(1, 21):\n",
        "    if number % 3 == 0:\n",
        "        continue\n",
        "    print(number)"
      ],
      "metadata": {
        "colab": {
          "base_uri": "https://localhost:8080/"
        },
        "id": "WLtj90qzUm_I",
        "outputId": "e378aba9-acdb-4528-a4a5-745c76dc66d0"
      },
      "execution_count": 79,
      "outputs": [
        {
          "output_type": "stream",
          "name": "stdout",
          "text": [
            "1\n",
            "2\n",
            "4\n",
            "5\n",
            "7\n",
            "8\n",
            "10\n",
            "11\n",
            "13\n",
            "14\n",
            "16\n",
            "17\n",
            "19\n",
            "20\n"
          ]
        }
      ]
    },
    {
      "cell_type": "code",
      "source": [
        "\n",
        "\n",
        "while True:\n",
        "    number = int(input(\"Enter a number (even number to stop): \"))\n",
        "\n",
        "    if number % 2 != 0:\n",
        "        print(\"Odd number entered. Please enter an even number.\")\n",
        "        continue\n",
        "    else:\n",
        "        print(f\"You entered an even number: {number}\")\n",
        "        break"
      ],
      "metadata": {
        "colab": {
          "base_uri": "https://localhost:8080/"
        },
        "id": "RV0zNpO9U07n",
        "outputId": "b918e9da-ea19-4b99-efd3-2df18982fbff"
      },
      "execution_count": 80,
      "outputs": [
        {
          "output_type": "stream",
          "name": "stdout",
          "text": [
            "Enter a number (even number to stop): 5\n",
            "Odd number entered. Please enter an even number.\n",
            "Enter a number (even number to stop): 2\n",
            "You entered an even number: 2\n"
          ]
        }
      ]
    },
    {
      "cell_type": "markdown",
      "source": [
        "ASSIGNMENT 6"
      ],
      "metadata": {
        "id": "BfEaFcSMVMpM"
      }
    },
    {
      "cell_type": "code",
      "source": [
        "\n",
        "for number in range(1, 11):\n",
        "    print(number)"
      ],
      "metadata": {
        "colab": {
          "base_uri": "https://localhost:8080/"
        },
        "id": "fHbgv9lXVPYm",
        "outputId": "a56e2a33-bc59-43ca-dc76-23078ad452f2"
      },
      "execution_count": 81,
      "outputs": [
        {
          "output_type": "stream",
          "name": "stdout",
          "text": [
            "1\n",
            "2\n",
            "3\n",
            "4\n",
            "5\n",
            "6\n",
            "7\n",
            "8\n",
            "9\n",
            "10\n"
          ]
        }
      ]
    },
    {
      "cell_type": "code",
      "source": [
        "\n",
        "for number in range(1, 21):\n",
        "    if number % 2 == 0:\n",
        "        print(number)"
      ],
      "metadata": {
        "colab": {
          "base_uri": "https://localhost:8080/"
        },
        "id": "kEqnZ0SQVevz",
        "outputId": "14ed4588-e575-4b6c-822c-13c2a643a49f"
      },
      "execution_count": 82,
      "outputs": [
        {
          "output_type": "stream",
          "name": "stdout",
          "text": [
            "2\n",
            "4\n",
            "6\n",
            "8\n",
            "10\n",
            "12\n",
            "14\n",
            "16\n",
            "18\n",
            "20\n"
          ]
        }
      ]
    },
    {
      "cell_type": "code",
      "source": [
        "\n",
        "number = 5\n",
        "for i in range(1, 11):\n",
        "    result = number * i\n",
        "    print(f\"{number} x {i} = {result}\")"
      ],
      "metadata": {
        "colab": {
          "base_uri": "https://localhost:8080/"
        },
        "id": "v8wy1MFMV0l7",
        "outputId": "5a6db52f-2d89-4f64-ae81-357b1dfead42"
      },
      "execution_count": 83,
      "outputs": [
        {
          "output_type": "stream",
          "name": "stdout",
          "text": [
            "5 x 1 = 5\n",
            "5 x 2 = 10\n",
            "5 x 3 = 15\n",
            "5 x 4 = 20\n",
            "5 x 5 = 25\n",
            "5 x 6 = 30\n",
            "5 x 7 = 35\n",
            "5 x 8 = 40\n",
            "5 x 9 = 45\n",
            "5 x 10 = 50\n"
          ]
        }
      ]
    },
    {
      "cell_type": "code",
      "source": [
        "\n",
        "n = int(input(\"Enter a positive integer n: \"))\n",
        "sum_natural_numbers = 0\n",
        "for i in range(1, n + 1):\n",
        "    sum_natural_numbers += i\n",
        "print(f\"The sum of the first {n} natural numbers is: {sum_natural_numbers}\")"
      ],
      "metadata": {
        "colab": {
          "base_uri": "https://localhost:8080/"
        },
        "id": "3TGVXm_DWH5a",
        "outputId": "24972c9b-d538-4861-eb8c-b016067304fe"
      },
      "execution_count": 84,
      "outputs": [
        {
          "output_type": "stream",
          "name": "stdout",
          "text": [
            "Enter a positive integer n: 5\n",
            "The sum of the first 5 natural numbers is: 15\n"
          ]
        }
      ]
    },
    {
      "cell_type": "code",
      "source": [
        "\n",
        "input_string = input(\"Enter a string to reverse: \")\n",
        "reversed_string = \"\"\n",
        "for i in range(len(input_string) - 1, -1, -1):\n",
        "    reversed_string += input_string[i]\n",
        "print(\"Reversed string:\", reversed_string)"
      ],
      "metadata": {
        "colab": {
          "base_uri": "https://localhost:8080/"
        },
        "id": "-D96sjkyWaI7",
        "outputId": "4dc6e340-4511-4700-ea80-4ed15ca0477a"
      },
      "execution_count": 85,
      "outputs": [
        {
          "output_type": "stream",
          "name": "stdout",
          "text": [
            "Enter a string to reverse: mhk\n",
            "Reversed string: khm\n"
          ]
        }
      ]
    },
    {
      "cell_type": "code",
      "source": [
        "\n",
        "input_string = input(\"Enter a string: \")\n",
        "vowel_count = 0\n",
        "vowels = \"aeiouAEIOU\"\n",
        "for char in input_string:\n",
        "    if char in vowels:\n",
        "        vowel_count += 1\n",
        "print(\"Number of vowels in the given string:\", vowel_count)"
      ],
      "metadata": {
        "colab": {
          "base_uri": "https://localhost:8080/"
        },
        "id": "9hKAkA_LW1_l",
        "outputId": "b87b85eb-8054-44f2-90fb-fa192a006d4a"
      },
      "execution_count": 86,
      "outputs": [
        {
          "output_type": "stream",
          "name": "stdout",
          "text": [
            "Enter a string: mehaksharma\n",
            "Number of vowels in the given string: 4\n"
          ]
        }
      ]
    },
    {
      "cell_type": "code",
      "source": [
        "\n",
        "my_list = [10, 20, 30, 40, 50]\n",
        "for element in my_list:\n",
        "    print(element)"
      ],
      "metadata": {
        "colab": {
          "base_uri": "https://localhost:8080/"
        },
        "id": "x6faD1PYXOki",
        "outputId": "213b64b2-5b28-46e7-8f26-cf4c545ce8d5"
      },
      "execution_count": 87,
      "outputs": [
        {
          "output_type": "stream",
          "name": "stdout",
          "text": [
            "10\n",
            "20\n",
            "30\n",
            "40\n",
            "50\n"
          ]
        }
      ]
    },
    {
      "cell_type": "code",
      "source": [
        "\n",
        "n = int(input(\"Enter a positive integer: \"))\n",
        "factorial = 1\n",
        "for i in range(1, n + 1):\n",
        "    factorial *= i\n",
        "print(f\"The factorial of {n} is: {factorial}\")"
      ],
      "metadata": {
        "colab": {
          "base_uri": "https://localhost:8080/"
        },
        "id": "fIRyt7W8Xb6_",
        "outputId": "8e6ea4e4-6d5b-43c8-9f79-20af4f194b91"
      },
      "execution_count": 88,
      "outputs": [
        {
          "output_type": "stream",
          "name": "stdout",
          "text": [
            "Enter a positive integer: 6\n",
            "The factorial of 6 is: 720\n"
          ]
        }
      ]
    },
    {
      "cell_type": "code",
      "source": [
        "\n",
        "numbers = [10, 25, 3, 45, 18, 7, 99, 2]\n",
        "largest_number = numbers[0]\n",
        "for number in numbers:\n",
        "    if number > largest_number:\n",
        "        largest_number = number\n",
        "print(\"The largest number in the list is:\", largest_number)"
      ],
      "metadata": {
        "colab": {
          "base_uri": "https://localhost:8080/"
        },
        "id": "L3foYmDfX1Uw",
        "outputId": "16f8e278-e84b-47a5-8712-a8ec06ad5cc8"
      },
      "execution_count": 89,
      "outputs": [
        {
          "output_type": "stream",
          "name": "stdout",
          "text": [
            "The largest number in the list is: 99\n"
          ]
        }
      ]
    },
    {
      "cell_type": "code",
      "source": [
        "\n",
        "for number in range(1, 11):\n",
        "    if number == 5:\n",
        "        break\n",
        "    print(number)"
      ],
      "metadata": {
        "colab": {
          "base_uri": "https://localhost:8080/"
        },
        "id": "0Pxk2oDWYVNy",
        "outputId": "efb9668f-ffc8-43f6-c507-b111adcf1a0e"
      },
      "execution_count": 90,
      "outputs": [
        {
          "output_type": "stream",
          "name": "stdout",
          "text": [
            "1\n",
            "2\n",
            "3\n",
            "4\n"
          ]
        }
      ]
    },
    {
      "cell_type": "code",
      "source": [
        "\n",
        "numbers = [1, 3, 5, 7, 8, 10, 13, 15]\n",
        "for number in numbers:\n",
        "    if number % 2 == 0:\n",
        "        print(\"The first even number in the list is:\", number)\n",
        "        break"
      ],
      "metadata": {
        "colab": {
          "base_uri": "https://localhost:8080/"
        },
        "id": "daonyL7nYlSo",
        "outputId": "992ce7e6-b180-44c1-bb34-4ef64471c998"
      },
      "execution_count": 91,
      "outputs": [
        {
          "output_type": "stream",
          "name": "stdout",
          "text": [
            "The first even number in the list is: 8\n"
          ]
        }
      ]
    },
    {
      "cell_type": "code",
      "source": [
        "\n",
        "word = input(\"Enter a word: \")\n",
        "for index, char in enumerate(word):\n",
        "    if char == 'a':\n",
        "        print(f\"The first occurrence of 'a' is at index: {index}\")\n",
        "        break\n",
        "else:\n",
        "    print(\"The letter 'a' is not found in the word.\")"
      ],
      "metadata": {
        "colab": {
          "base_uri": "https://localhost:8080/"
        },
        "id": "nHy4CMq0Y12L",
        "outputId": "2687814d-e3bb-43e3-85a0-c6b77cb960ad"
      },
      "execution_count": 92,
      "outputs": [
        {
          "output_type": "stream",
          "name": "stdout",
          "text": [
            "Enter a word: banana\n",
            "The first occurrence of 'a' is at index: 1\n"
          ]
        }
      ]
    },
    {
      "cell_type": "code",
      "source": [
        "\n",
        "correct_password = \"mypassword\"\n",
        "while True:\n",
        "    password = input(\"Enter the password: \")\n",
        "    if password == correct_password:\n",
        "        print(\"Access granted!\")\n",
        "        break\n",
        "    else:\n",
        "        print(\"Incorrect password. Please try again.\")"
      ],
      "metadata": {
        "colab": {
          "base_uri": "https://localhost:8080/"
        },
        "id": "7T3QG6SCZOuY",
        "outputId": "c454b4bb-7235-4911-e701-1c03614a1de1"
      },
      "execution_count": 93,
      "outputs": [
        {
          "output_type": "stream",
          "name": "stdout",
          "text": [
            "Enter the password: mhk\n",
            "Incorrect password. Please try again.\n",
            "Enter the password: mypassword\n",
            "Access granted!\n"
          ]
        }
      ]
    },
    {
      "cell_type": "code",
      "source": [
        "\n",
        "number = 7\n",
        "for i in range(1, 6):\n",
        "    result = number * i\n",
        "    print(f\"{number} x {i} = {result}\")"
      ],
      "metadata": {
        "colab": {
          "base_uri": "https://localhost:8080/"
        },
        "id": "3llAfGN1ZmGT",
        "outputId": "c5abcaab-3106-47df-9290-7f729830d615"
      },
      "execution_count": 94,
      "outputs": [
        {
          "output_type": "stream",
          "name": "stdout",
          "text": [
            "7 x 1 = 7\n",
            "7 x 2 = 14\n",
            "7 x 3 = 21\n",
            "7 x 4 = 28\n",
            "7 x 5 = 35\n"
          ]
        }
      ]
    },
    {
      "cell_type": "code",
      "source": [
        "\n",
        "for number in range(1, 11):\n",
        "    if number == 5:\n",
        "        continue\n",
        "    print(number)"
      ],
      "metadata": {
        "colab": {
          "base_uri": "https://localhost:8080/"
        },
        "id": "mrnwLTjuZ3VB",
        "outputId": "d13648ca-dc2e-47dd-9219-1b3f55b083f2"
      },
      "execution_count": 95,
      "outputs": [
        {
          "output_type": "stream",
          "name": "stdout",
          "text": [
            "1\n",
            "2\n",
            "3\n",
            "4\n",
            "6\n",
            "7\n",
            "8\n",
            "9\n",
            "10\n"
          ]
        }
      ]
    },
    {
      "cell_type": "code",
      "source": [
        "\n",
        "for number in range(1, 11):\n",
        "    if number % 2 != 0:\n",
        "        print(number)"
      ],
      "metadata": {
        "colab": {
          "base_uri": "https://localhost:8080/"
        },
        "id": "1UYRXUHnaGRg",
        "outputId": "918e7b56-3f40-4eb7-ea58-20ef7be6aab2"
      },
      "execution_count": 96,
      "outputs": [
        {
          "output_type": "stream",
          "name": "stdout",
          "text": [
            "1\n",
            "3\n",
            "5\n",
            "7\n",
            "9\n"
          ]
        }
      ]
    },
    {
      "cell_type": "code",
      "source": [
        "\n",
        "number = 3\n",
        "for i in range(1, 11):\n",
        "    result = number * i\n",
        "    if result % 6 == 0:\n",
        "        continue\n",
        "    print(f\"{number} x {i} = {result}\")"
      ],
      "metadata": {
        "colab": {
          "base_uri": "https://localhost:8080/"
        },
        "id": "IZHnhyCRabnk",
        "outputId": "196f912e-cf82-49df-aa18-a69cd550a0a1"
      },
      "execution_count": 97,
      "outputs": [
        {
          "output_type": "stream",
          "name": "stdout",
          "text": [
            "3 x 1 = 3\n",
            "3 x 3 = 9\n",
            "3 x 5 = 15\n",
            "3 x 7 = 21\n",
            "3 x 9 = 27\n"
          ]
        }
      ]
    },
    {
      "cell_type": "code",
      "source": [
        "\n",
        "word = input(\"Enter a word: \")\n",
        "vowels = \"aeiouAEIOU\"\n",
        "for char in word:\n",
        "    if char not in vowels:\n",
        "        print(char, end='')"
      ],
      "metadata": {
        "colab": {
          "base_uri": "https://localhost:8080/"
        },
        "id": "3GJxQgHvayFd",
        "outputId": "089429ec-b91d-4f29-daca-801a7024c743"
      },
      "execution_count": 98,
      "outputs": [
        {
          "output_type": "stream",
          "name": "stdout",
          "text": [
            "Enter a word: mhksharma\n",
            "mhkshrm"
          ]
        }
      ]
    },
    {
      "cell_type": "code",
      "source": [
        "\n",
        "numbers = [10, -5, 3, -1, 7, -8, 0, 15, -2]\n",
        "for number in numbers:\n",
        "    if number > 0:\n",
        "        print(number)"
      ],
      "metadata": {
        "colab": {
          "base_uri": "https://localhost:8080/"
        },
        "id": "B4hlva_9bG8j",
        "outputId": "9f6d1a8c-fc40-41cc-f1d5-5707587e8c46"
      },
      "execution_count": 99,
      "outputs": [
        {
          "output_type": "stream",
          "name": "stdout",
          "text": [
            "10\n",
            "3\n",
            "7\n",
            "15\n"
          ]
        }
      ]
    },
    {
      "cell_type": "code",
      "source": [
        "\n",
        "for number in range(1, 21):\n",
        "    if number % 4 == 0:\n",
        "        continue\n",
        "    print(number)"
      ],
      "metadata": {
        "colab": {
          "base_uri": "https://localhost:8080/"
        },
        "id": "w5OQ4hHAbXSE",
        "outputId": "c67b71f0-fe44-449c-ba4d-55f4d30a1c8b"
      },
      "execution_count": 100,
      "outputs": [
        {
          "output_type": "stream",
          "name": "stdout",
          "text": [
            "1\n",
            "2\n",
            "3\n",
            "5\n",
            "6\n",
            "7\n",
            "9\n",
            "10\n",
            "11\n",
            "13\n",
            "14\n",
            "15\n",
            "17\n",
            "18\n",
            "19\n"
          ]
        }
      ]
    },
    {
      "cell_type": "code",
      "source": [
        "\n",
        "for i in range(1, 6):\n",
        "    print(f\"Multiplication table for {i}:\")\n",
        "    for j in range(1, 11):\n",
        "        result = i * j\n",
        "        print(f\"{i} x {j} = {result}\")\n",
        "\n",
        "    print()"
      ],
      "metadata": {
        "colab": {
          "base_uri": "https://localhost:8080/"
        },
        "id": "aDaB_SwQbp3t",
        "outputId": "3398d450-b608-4e5b-8409-bb66c6422a7c"
      },
      "execution_count": 101,
      "outputs": [
        {
          "output_type": "stream",
          "name": "stdout",
          "text": [
            "Multiplication table for 1:\n",
            "1 x 1 = 1\n",
            "1 x 2 = 2\n",
            "1 x 3 = 3\n",
            "1 x 4 = 4\n",
            "1 x 5 = 5\n",
            "1 x 6 = 6\n",
            "1 x 7 = 7\n",
            "1 x 8 = 8\n",
            "1 x 9 = 9\n",
            "1 x 10 = 10\n",
            "\n",
            "Multiplication table for 2:\n",
            "2 x 1 = 2\n",
            "2 x 2 = 4\n",
            "2 x 3 = 6\n",
            "2 x 4 = 8\n",
            "2 x 5 = 10\n",
            "2 x 6 = 12\n",
            "2 x 7 = 14\n",
            "2 x 8 = 16\n",
            "2 x 9 = 18\n",
            "2 x 10 = 20\n",
            "\n",
            "Multiplication table for 3:\n",
            "3 x 1 = 3\n",
            "3 x 2 = 6\n",
            "3 x 3 = 9\n",
            "3 x 4 = 12\n",
            "3 x 5 = 15\n",
            "3 x 6 = 18\n",
            "3 x 7 = 21\n",
            "3 x 8 = 24\n",
            "3 x 9 = 27\n",
            "3 x 10 = 30\n",
            "\n",
            "Multiplication table for 4:\n",
            "4 x 1 = 4\n",
            "4 x 2 = 8\n",
            "4 x 3 = 12\n",
            "4 x 4 = 16\n",
            "4 x 5 = 20\n",
            "4 x 6 = 24\n",
            "4 x 7 = 28\n",
            "4 x 8 = 32\n",
            "4 x 9 = 36\n",
            "4 x 10 = 40\n",
            "\n",
            "Multiplication table for 5:\n",
            "5 x 1 = 5\n",
            "5 x 2 = 10\n",
            "5 x 3 = 15\n",
            "5 x 4 = 20\n",
            "5 x 5 = 25\n",
            "5 x 6 = 30\n",
            "5 x 7 = 35\n",
            "5 x 8 = 40\n",
            "5 x 9 = 45\n",
            "5 x 10 = 50\n",
            "\n"
          ]
        }
      ]
    }
  ]
}